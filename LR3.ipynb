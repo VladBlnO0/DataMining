{
 "cells": [
  {
   "metadata": {
    "ExecuteTime": {
     "end_time": "2025-09-23T09:59:08.960244Z",
     "start_time": "2025-09-23T09:59:08.958427Z"
    }
   },
   "cell_type": "code",
   "source": [
    "import os\n",
    "from keras import Input\n",
    "os.environ[\"TF_CPP_MIN_LOG_LEVEL\"] = \"3\""
   ],
   "id": "53cdd3cf514f0d3e",
   "outputs": [],
   "execution_count": 2
  },
  {
   "cell_type": "code",
   "id": "initial_id",
   "metadata": {
    "collapsed": true,
    "ExecuteTime": {
     "end_time": "2025-09-23T09:59:08.974346Z",
     "start_time": "2025-09-23T09:59:08.971961Z"
    }
   },
   "source": [
    "import numpy as np\n",
    "import tensorflow as tf\n",
    "from tensorflow.keras import Sequential\n",
    "from tensorflow.keras.layers import Dense\n",
    "import matplotlib.pyplot as plt"
   ],
   "outputs": [],
   "execution_count": 3
  },
  {
   "metadata": {},
   "cell_type": "markdown",
   "source": "1. Генерація часового ряду",
   "id": "fc47eca494a8e9b4"
  },
  {
   "metadata": {},
   "cell_type": "code",
   "outputs": [],
   "execution_count": null,
   "source": [
    "# Вкажіть свій номер варіанту (1-12)\n",
    "variant = ...\n",
    "# Опишіть функцію для генерації часового ряду за формулою вашого варіанту\n",
    "def generate_series(T, variant):\n",
    " if variant == 1:\n",
    " return 0.15*np.cos(T/7+3)+0.10*np.sin(T/3+5)+0.30+0.10*np.sin(T/3+7)\n",
    " # Додати решту варіантів ...\n",
    " else:\n",
    " raise ValueError(\"Невідомий варіант\")\n",
    "# Діапазон часу\n",
    "T = np.arange(1, 101)\n",
    "y = generate_series(T, variant)\n",
    "# Перевіримо кілька значень\n",
    "print(y[:10])"
   ],
   "id": "3118158d62f79d25"
  },
  {
   "metadata": {},
   "cell_type": "markdown",
   "source": "2. Формування навчальної вибірки методом «вікон»\n",
   "id": "67a00a021235a707"
  },
  {
   "metadata": {},
   "cell_type": "code",
   "outputs": [],
   "execution_count": null,
   "source": [
    "# Задайте ширину вікна n та горизонт прогнозу m\n",
    "n, m = ..., ...\n",
    "def make_windows(series, n, m=1, step=1):\n",
    " X, Y = [], []\n",
    " for i in range(len(series)-n-m+1):\n",
    " X.append(series[i:i+n])\n",
    " Y.append(series[i+n:i+n+m])\n",
    " return np.array(X), np.array(Y)\n",
    "X, Y = make_windows(y, n, m)\n",
    "print(\"Кількість зразків:\", len(X))"
   ],
   "id": "5ae5326a4e7d7b95"
  },
  {
   "metadata": {},
   "cell_type": "markdown",
   "source": "3. Розподіл вибірки на ОВ та КВ\n",
   "id": "eccb18b8cf2af850"
  },
  {
   "metadata": {},
   "cell_type": "code",
   "outputs": [],
   "execution_count": null,
   "source": [
    "# Вкажіть відсоток даних для контрольної вибірки\n",
    "test_frac = ...\n",
    "M = int(round(len(X) * test_frac))\n",
    "X_train, Y_train = X[:-M], Y[:-M]\n",
    "X_val, Y_val = X[-M:], Y[-M:]\n",
    "print(\"ОВ:\", X_train.shape, \"КВ:\", X_val.shape)"
   ],
   "id": "283b31e333f8c55c"
  },
  {
   "metadata": {},
   "cell_type": "markdown",
   "source": "4. Побудова та навчання моделі\n",
   "id": "3d76c24ada9075c6"
  },
  {
   "metadata": {},
   "cell_type": "code",
   "outputs": [],
   "execution_count": null,
   "source": [
    "import torch\n",
    "from torch import nn\n",
    "# Вкажіть кількість нейронів у прихованому шарі\n",
    "hidden_neurons = ...\n",
    "model = nn.Sequential(\n",
    " nn.Linear(n, hidden_neurons),\n",
    " nn.Tanh(),\n",
    " nn.Linear(hidden_neurons, m)\n",
    ")\n",
    "criterion = nn.MSELoss()\n",
    "optimizer = torch.optim.SGD(model.parameters(), lr=0.05, momentum=0.9)\n",
    "# Задайте кількість епох\n",
    "EPOCHS = ...\n",
    "for epoch in range(EPOCHS):\n",
    " # Реалізуйте крок навчання\n",
    " pass\n",
    "# Обчисліть помилку на контрольній вибірці"
   ],
   "id": "b1a89bec06a4a63d"
  },
  {
   "metadata": {},
   "cell_type": "markdown",
   "source": "5. Візуалізація результатів\n",
   "id": "918d2ab5800cd430"
  },
  {
   "metadata": {
    "ExecuteTime": {
     "end_time": "2025-09-23T09:59:09.020612Z",
     "start_time": "2025-09-23T09:59:09.018366Z"
    }
   },
   "cell_type": "code",
   "source": [
    "import matplotlib.pyplot as plt\n",
    "# Побудуйте графік вихідного ряду\n",
    "# Побудуйте графік зміни помилки від епох\n",
    "# Побудуйте графік прогнозу на контрольній вибірці"
   ],
   "id": "3dd0e64d9f47d95e",
   "outputs": [],
   "execution_count": 4
  }
 ],
 "metadata": {
  "kernelspec": {
   "display_name": "Python 3",
   "language": "python",
   "name": "python3"
  },
  "language_info": {
   "codemirror_mode": {
    "name": "ipython",
    "version": 2
   },
   "file_extension": ".py",
   "mimetype": "text/x-python",
   "name": "python",
   "nbconvert_exporter": "python",
   "pygments_lexer": "ipython2",
   "version": "2.7.6"
  }
 },
 "nbformat": 4,
 "nbformat_minor": 5
}
