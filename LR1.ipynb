{
 "cells": [
  {
   "metadata": {
    "ExecuteTime": {
     "end_time": "2025-09-09T09:37:12.391248Z",
     "start_time": "2025-09-09T09:37:12.387158Z"
    }
   },
   "cell_type": "code",
   "source": [
    "import os\n",
    "os.environ[\"TF_CPP_MIN_LOG_LEVEL\"] = \"3\""
   ],
   "id": "53cdd3cf514f0d3e",
   "outputs": [],
   "execution_count": 1
  },
  {
   "cell_type": "code",
   "id": "initial_id",
   "metadata": {
    "collapsed": true,
    "ExecuteTime": {
     "end_time": "2025-09-09T09:37:13.459239Z",
     "start_time": "2025-09-09T09:37:12.450048Z"
    }
   },
   "source": [
    "import numpy as np\n",
    "import tensorflow as tf\n",
    "from keras import models, layers\n",
    "import matplotlib.pyplot as plt"
   ],
   "outputs": [],
   "execution_count": 2
  },
  {
   "metadata": {
    "ExecuteTime": {
     "end_time": "2025-09-09T09:37:13.466160Z",
     "start_time": "2025-09-09T09:37:13.464224Z"
    }
   },
   "cell_type": "code",
   "source": [
    "X = np.array([\n",
    "#    0  1  2  3  4  5  6  7  8\n",
    "    [0, 1, 1, 0, 0, 1, 1, 0, 0], # 3\n",
    "    [1, 0, 0, 1, 0, 1, 0, 1, 0], # 4\n",
    "    [1, 1, 0, 0, 0, 1, 0, 1, 1], # 5\n",
    "    [1, 1, 1, 1, 1, 1, 1, 1, 1]  # 8\n",
    "])"
   ],
   "id": "25934185b50d57f7",
   "outputs": [],
   "execution_count": 3
  },
  {
   "metadata": {
    "ExecuteTime": {
     "end_time": "2025-09-09T09:37:13.513270Z",
     "start_time": "2025-09-09T09:37:13.511651Z"
    }
   },
   "cell_type": "code",
   "source": [
    "y = np.array([\n",
    "    [1,0,0,0], # 1\n",
    "    [0,1,0,0], # 2\n",
    "    [0,0,1,0], # 3\n",
    "    [0,0,0,1]  # etc\n",
    "])"
   ],
   "id": "3dd0e64d9f47d95e",
   "outputs": [],
   "execution_count": 4
  },
  {
   "metadata": {
    "ExecuteTime": {
     "end_time": "2025-09-09T09:37:13.570471Z",
     "start_time": "2025-09-09T09:37:13.563784Z"
    }
   },
   "cell_type": "code",
   "source": [
    "def create_model():\n",
    "    d_model = models.Sequential()\n",
    "\n",
    "    d_model.add(layers.Input(shape=(9,)))\n",
    "    d_model.add(layers.Dense(16, activation='relu'))\n",
    "    d_model.add(layers.Dense(8, activation='relu'))\n",
    "    d_model.add(layers.Dense(4, activation='softmax'))\n",
    "\n",
    "    d_model.compile(loss='mse', optimizer='adam', metrics=['mse'])\n",
    "\n",
    "    return d_model"
   ],
   "id": "6570e955f30f4aff",
   "outputs": [],
   "execution_count": 5
  },
  {
   "metadata": {
    "ExecuteTime": {
     "end_time": "2025-09-09T09:37:46.992931Z",
     "start_time": "2025-09-09T09:37:13.617995Z"
    }
   },
   "cell_type": "code",
   "source": [
    "target_mse = 0.01\n",
    "final_loss = 1.0\n",
    "all_losses = []\n",
    "n_epochs = 100\n",
    "\n",
    "c_model = create_model()\n",
    "\n",
    "while final_loss > target_mse:\n",
    "    history = c_model.fit(X, y, epochs=n_epochs, verbose=0)\n",
    "    final_loss = history.history['loss'][-1]\n",
    "    all_losses = history.history['loss']\n",
    "    print(f\"Epochs: {n_epochs}    MSE: {final_loss:.4f}\")\n",
    "    n_epochs += 100"
   ],
   "id": "9556ea573010c725",
   "outputs": [
    {
     "name": "stderr",
     "output_type": "stream",
     "text": [
      "WARNING: All log messages before absl::InitializeLog() is called are written to STDERR\n",
      "I0000 00:00:1757410634.190796  327696 gpu_device.cc:2020] Created device /job:localhost/replica:0/task:0/device:GPU:0 with 9231 MB memory:  -> device: 0, name: NVIDIA GeForce RTX 4070 SUPER, pci bus id: 0000:01:00.0, compute capability: 8.9\n",
      "I0000 00:00:1757410635.448737  327769 device_compiler.h:196] Compiled cluster using XLA!  This line is logged at most once for the lifetime of the process.\n"
     ]
    },
    {
     "name": "stdout",
     "output_type": "stream",
     "text": [
      "Epochs: 100    MSE: 0.1116\n",
      "Epochs: 200    MSE: 0.0520\n",
      "Epochs: 300    MSE: 0.0232\n",
      "Epochs: 400    MSE: 0.0107\n",
      "Epochs: 500    MSE: 0.0049\n"
     ]
    }
   ],
   "execution_count": 6
  },
  {
   "metadata": {
    "ExecuteTime": {
     "end_time": "2025-09-09T09:37:47.469634Z",
     "start_time": "2025-09-09T09:37:47.413696Z"
    }
   },
   "cell_type": "code",
   "source": [
    "plt.plot(all_losses)\n",
    "plt.xlabel('Epoch')\n",
    "plt.ylabel('MSE')\n",
    "plt.show()"
   ],
   "id": "1e05b573090efe87",
   "outputs": [
    {
     "data": {
      "text/plain": [
       "<Figure size 640x480 with 1 Axes>"
      ],
      "image/png": "[encoded data removed]"
     },
     "metadata": {},
     "output_type": "display_data",
     "jetTransient": {
      "display_id": null
     }
    }
   ],
   "execution_count": 9
  },
  {
   "metadata": {
    "ExecuteTime": {
     "end_time": "2025-09-09T09:42:59.624977Z",
     "start_time": "2025-09-09T09:42:59.574653Z"
    }
   },
   "cell_type": "code",
   "source": [
    "predictions = c_model.predict(X)\n",
    "print(np.round(predictions, 2))"
   ],
   "id": "179225876ba10765",
   "outputs": [
    {
     "name": "stdout",
     "output_type": "stream",
     "text": [
      "\u001B[1m1/1\u001B[0m \u001B[32m━━━━━━━━━━━━━━━━━━━━\u001B[0m\u001B[37m\u001B[0m \u001B[1m0s\u001B[0m 20ms/step\n",
      "[[0.99 0.   0.   0.01]\n",
      " [0.06 0.76 0.1  0.08]\n",
      " [0.   0.   0.98 0.02]\n",
      " [0.01 0.   0.01 0.99]]\n"
     ]
    }
   ],
   "execution_count": 10
  },
  {
   "metadata": {
    "ExecuteTime": {
     "end_time": "2025-09-09T09:42:59.679094Z",
     "start_time": "2025-09-09T09:42:59.638632Z"
    }
   },
   "cell_type": "code",
   "source": [
    "# Make predictions on training data\n",
    "preds = c_model.predict(X)\n",
    "\n",
    "print(\"Очікувані значення (y):\")\n",
    "print(y)\n",
    "\n",
    "print(\"\\nОтримані значення мережі (preds):\")\n",
    "print(np.round(preds, 2))  # rounded for readability\n"
   ],
   "id": "4eb044369a8ee8cc",
   "outputs": [
    {
     "name": "stdout",
     "output_type": "stream",
     "text": [
      "\u001B[1m1/1\u001B[0m \u001B[32m━━━━━━━━━━━━━━━━━━━━\u001B[0m\u001B[37m\u001B[0m \u001B[1m0s\u001B[0m 22ms/step\n",
      "Очікувані значення (y):\n",
      "[[1 0 0 0]\n",
      " [0 1 0 0]\n",
      " [0 0 1 0]\n",
      " [0 0 0 1]]\n",
      "\n",
      "Отримані значення мережі (preds):\n",
      "[[0.99 0.   0.   0.01]\n",
      " [0.06 0.76 0.1  0.08]\n",
      " [0.   0.   0.98 0.02]\n",
      " [0.01 0.   0.01 0.99]]\n"
     ]
    }
   ],
   "execution_count": 11
  }
 ],
 "metadata": {
  "kernelspec": {
   "display_name": "Python 3",
   "language": "python",
   "name": "python3"
  },
  "language_info": {
   "codemirror_mode": {
    "name": "ipython",
    "version": 2
   },
   "file_extension": ".py",
   "mimetype": "text/x-python",
   "name": "python",
   "nbconvert_exporter": "python",
   "pygments_lexer": "ipython2",
   "version": "2.7.6"
  }
 },
 "nbformat": 4,
 "nbformat_minor": 5
}
