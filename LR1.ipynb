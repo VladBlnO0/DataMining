{
 "cells": [
  {
   "metadata": {
    "ExecuteTime": {
     "end_time": "2025-09-19T09:06:00.355956Z",
     "start_time": "2025-09-19T09:06:00.354301Z"
    }
   },
   "cell_type": "code",
   "source": [
    "import os\n",
    "os.environ[\"TF_CPP_MIN_LOG_LEVEL\"] = \"3\""
   ],
   "id": "53cdd3cf514f0d3e",
   "outputs": [],
   "execution_count": 98
  },
  {
   "cell_type": "code",
   "id": "initial_id",
   "metadata": {
    "collapsed": true,
    "ExecuteTime": {
     "end_time": "2025-09-19T09:06:00.373162Z",
     "start_time": "2025-09-19T09:06:00.371530Z"
    }
   },
   "source": [
    "import numpy as np\n",
    "import tensorflow as tf\n",
    "from keras import models, layers\n",
    "import matplotlib.pyplot as plt"
   ],
   "outputs": [],
   "execution_count": 99
  },
  {
   "metadata": {
    "ExecuteTime": {
     "end_time": "2025-09-19T09:06:00.424490Z",
     "start_time": "2025-09-19T09:06:00.419114Z"
    }
   },
   "cell_type": "code",
   "source": [
    "X = np.array([\n",
    "#    0  1  2  3  4  5  6  7  8\n",
    "    [0, 1, 1, 0, 0, 1, 1, 0, 0], # 3\n",
    "    [1, 0, 0, 1, 0, 1, 0, 1, 0], # 4\n",
    "    [1, 1, 0, 0, 0, 1, 0, 1, 1], # 5\n",
    "    [1, 1, 1, 1, 1, 1, 1, 1, 1]  # 8\n",
    "])"
   ],
   "id": "25934185b50d57f7",
   "outputs": [],
   "execution_count": 100
  },
  {
   "metadata": {
    "ExecuteTime": {
     "end_time": "2025-09-19T09:06:00.477275Z",
     "start_time": "2025-09-19T09:06:00.472953Z"
    }
   },
   "cell_type": "code",
   "source": [
    "y = np.array([\n",
    "    [1,0,0,0], # 1\n",
    "    [0,1,0,0], # 2\n",
    "    [0,0,1,0], # 3\n",
    "    [0,0,0,1]  # etc\n",
    "])"
   ],
   "id": "3dd0e64d9f47d95e",
   "outputs": [],
   "execution_count": 101
  },
  {
   "metadata": {
    "ExecuteTime": {
     "end_time": "2025-09-19T09:06:00.529248Z",
     "start_time": "2025-09-19T09:06:00.523901Z"
    }
   },
   "cell_type": "code",
   "source": [
    "def create_model():\n",
    "    d_model = models.Sequential()\n",
    "\n",
    "    d_model.add(layers.Input(shape=(9,)))\n",
    "    d_model.add(layers.Dense(16, activation='relu'))\n",
    "    d_model.add(layers.Dense(8, activation='relu'))\n",
    "    d_model.add(layers.Dense(4, activation='softmax'))\n",
    "\n",
    "    d_model.compile(loss='mse', optimizer='adam', metrics=['mse'])\n",
    "\n",
    "    return d_model"
   ],
   "id": "6570e955f30f4aff",
   "outputs": [],
   "execution_count": 102
  },
  {
   "metadata": {
    "ExecuteTime": {
     "end_time": "2025-09-19T09:06:08.148475Z",
     "start_time": "2025-09-19T09:06:00.577974Z"
    }
   },
   "cell_type": "code",
   "source": [
    "target_mse = 0.01\n",
    "final_loss = 1.0\n",
    "all_epochs = []\n",
    "all_mse = []\n",
    "n_epochs = 100\n",
    "\n",
    "c_model = create_model()\n",
    "\n",
    "while final_loss > target_mse:\n",
    "    history = c_model.fit(X, y, epochs=n_epochs, verbose=0)\n",
    "    final_loss = history.history['loss'][-1]\n",
    "    all_epochs.append(n_epochs)\n",
    "    all_mse.append(final_loss)\n",
    "    print(f\"Epochs: {n_epochs} MSE: {final_loss:.4f}\")\n",
    "    n_epochs += 100"
   ],
   "id": "9556ea573010c725",
   "outputs": [
    {
     "name": "stdout",
     "output_type": "stream",
     "text": [
      "Epochs: 100 MSE: 0.0928\n",
      "Epochs: 200 MSE: 0.0049\n"
     ]
    }
   ],
   "execution_count": 103
  },
  {
   "metadata": {
    "ExecuteTime": {
     "end_time": "2025-09-19T09:06:08.247175Z",
     "start_time": "2025-09-19T09:06:08.199166Z"
    }
   },
   "cell_type": "code",
   "source": [
    "plt.plot(all_epochs, all_mse, marker='o')\n",
    "plt.xlabel(\"Epochs\")\n",
    "plt.ylabel(\"MSE\")\n",
    "plt.show()"
   ],
   "id": "1e05b573090efe87",
   "outputs": [
    {
     "data": {
      "text/plain": [
       "<Figure size 640x480 with 1 Axes>"
      ],
      "image/png": "[encoded data removed]"
     },
     "metadata": {},
     "output_type": "display_data",
     "jetTransient": {
      "display_id": null
     }
    }
   ],
   "execution_count": 104
  },
  {
   "metadata": {
    "ExecuteTime": {
     "end_time": "2025-09-19T09:06:08.414296Z",
     "start_time": "2025-09-19T09:06:08.260569Z"
    }
   },
   "cell_type": "code",
   "source": [
    "predictions = c_model.predict(X)\n",
    "\n",
    "print(\"Очікувані\")\n",
    "print(y)\n",
    "\n",
    "print(\"\\nОтримані\")\n",
    "print(np.round(predictions, 2))\n"
   ],
   "id": "4eb044369a8ee8cc",
   "outputs": [
    {
     "name": "stdout",
     "output_type": "stream",
     "text": [
      "\u001B[1m1/1\u001B[0m \u001B[32m━━━━━━━━━━━━━━━━━━━━\u001B[0m\u001B[37m\u001B[0m \u001B[1m0s\u001B[0m 135ms/step\n",
      "Очікувані\n",
      "[[1 0 0 0]\n",
      " [0 1 0 0]\n",
      " [0 0 1 0]\n",
      " [0 0 0 1]]\n",
      "\n",
      "Отримані\n",
      "[[0.88 0.   0.03 0.09]\n",
      " [0.02 0.9  0.06 0.02]\n",
      " [0.07 0.06 0.85 0.02]\n",
      " [0.06 0.   0.   0.94]]\n"
     ]
    }
   ],
   "execution_count": 105
  }
 ],
 "metadata": {
  "kernelspec": {
   "display_name": "Python 3",
   "language": "python",
   "name": "python3"
  },
  "language_info": {
   "codemirror_mode": {
    "name": "ipython",
    "version": 2
   },
   "file_extension": ".py",
   "mimetype": "text/x-python",
   "name": "python",
   "nbconvert_exporter": "python",
   "pygments_lexer": "ipython2",
   "version": "2.7.6"
  }
 },
 "nbformat": 4,
 "nbformat_minor": 5
}
