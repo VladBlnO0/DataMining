{
 "cells": [
  {
   "metadata": {
    "ExecuteTime": {
     "end_time": "2025-09-05T08:17:24.154407Z",
     "start_time": "2025-09-05T08:17:24.152736Z"
    }
   },
   "cell_type": "code",
   "source": [
    "import os\n",
    "os.environ[\"TF_CPP_MIN_LOG_LEVEL\"] = \"2\""
   ],
   "id": "53cdd3cf514f0d3e",
   "outputs": [],
   "execution_count": 18
  },
  {
   "metadata": {
    "ExecuteTime": {
     "end_time": "2025-09-05T08:17:24.206682Z",
     "start_time": "2025-09-05T08:17:24.204675Z"
    }
   },
   "cell_type": "code",
   "source": [
    "import tensorflow as tf\n",
    "print(tf.config.list_physical_devices('GPU'))\n"
   ],
   "id": "40e6e60f973b2126",
   "outputs": [
    {
     "name": "stdout",
     "output_type": "stream",
     "text": [
      "[PhysicalDevice(name='/physical_device:GPU:0', device_type='GPU')]\n"
     ]
    }
   ],
   "execution_count": 19
  },
  {
   "cell_type": "code",
   "id": "initial_id",
   "metadata": {
    "collapsed": true,
    "ExecuteTime": {
     "end_time": "2025-09-05T08:17:24.263553Z",
     "start_time": "2025-09-05T08:17:24.258796Z"
    }
   },
   "source": [
    "import numpy as np\n",
    "from tensorflow.keras.models import Sequential\n",
    "from tensorflow.keras.layers import Dense\n",
    "from tensorflow.keras.utils import to_categorical"
   ],
   "outputs": [],
   "execution_count": 20
  },
  {
   "metadata": {
    "ExecuteTime": {
     "end_time": "2025-09-05T08:17:24.321864Z",
     "start_time": "2025-09-05T08:17:24.315335Z"
    }
   },
   "cell_type": "code",
   "source": [
    "# 1. Define mapping from digits to 9-segment representation\n",
    "# Example (you’ll need to fill in correct encoding for your 9-seg display)\n",
    "digit_to_segments = {\n",
    "    0: [1,1,1,1,1,1,0,0,0],\n",
    "    1: [0,1,0,0,1,0,0,0,0],\n",
    "    2: [1,1,0,1,1,0,1,0,0],\n",
    "    3: [1,1,1,1,0,0,1,0,0],\n",
    "    4: [0,1,1,0,0,1,1,0,0],\n",
    "    5: [1,0,1,1,0,1,1,0,0],\n",
    "    6: [1,0,1,1,1,1,1,0,0],\n",
    "    7: [1,1,1,0,0,0,0,0,0],\n",
    "    8: [1,1,1,1,1,1,1,0,0],\n",
    "    9: [1,1,1,1,0,1,1,0,0]\n",
    "}"
   ],
   "id": "25934185b50d57f7",
   "outputs": [],
   "execution_count": 21
  },
  {
   "metadata": {
    "ExecuteTime": {
     "end_time": "2025-09-05T08:17:24.379091Z",
     "start_time": "2025-09-05T08:17:24.371786Z"
    }
   },
   "cell_type": "code",
   "source": [
    "# 2. Create dataset\n",
    "X = np.array(list(digit_to_segments.values()))   # inputs\n",
    "y = np.array(list(digit_to_segments.keys()))     # labels\n",
    "y = to_categorical(y, num_classes=10)            # one-hot encoding"
   ],
   "id": "f257b05f392e04da",
   "outputs": [],
   "execution_count": 22
  },
  {
   "metadata": {
    "ExecuteTime": {
     "end_time": "2025-09-05T08:17:24.467745Z",
     "start_time": "2025-09-05T08:17:24.427504Z"
    }
   },
   "cell_type": "code",
   "source": [
    "# 3. Build neural network\n",
    "model = Sequential([\n",
    "    Dense(16, input_dim=9, activation='relu'),\n",
    "    Dense(16, activation='relu'),\n",
    "    Dense(10, activation='softmax')  # 10 outputs for digits\n",
    "])\n",
    "\n",
    "model.compile(loss='categorical_crossentropy',\n",
    "              optimizer='adam',\n",
    "              metrics=['accuracy'])"
   ],
   "id": "1f14e6d5586e996b",
   "outputs": [],
   "execution_count": 23
  },
  {
   "metadata": {
    "ExecuteTime": {
     "end_time": "2025-09-05T08:17:25.489161Z",
     "start_time": "2025-09-05T08:17:24.483311Z"
    }
   },
   "cell_type": "code",
   "source": [
    "# 4. Train\n",
    "model.fit(X, y, epochs=10, verbose=1)"
   ],
   "id": "7516d1a1dadd8f60",
   "outputs": [
    {
     "name": "stdout",
     "output_type": "stream",
     "text": [
      "Epoch 1/10\n",
      "\u001B[1m1/1\u001B[0m \u001B[32m━━━━━━━━━━━━━━━━━━━━\u001B[0m\u001B[37m\u001B[0m \u001B[1m1s\u001B[0m 777ms/step - accuracy: 0.0000e+00 - loss: 2.4091\n",
      "Epoch 2/10\n",
      "\u001B[1m1/1\u001B[0m \u001B[32m━━━━━━━━━━━━━━━━━━━━\u001B[0m\u001B[37m\u001B[0m \u001B[1m0s\u001B[0m 22ms/step - accuracy: 0.1000 - loss: 2.4002\n",
      "Epoch 3/10\n",
      "\u001B[1m1/1\u001B[0m \u001B[32m━━━━━━━━━━━━━━━━━━━━\u001B[0m\u001B[37m\u001B[0m \u001B[1m0s\u001B[0m 22ms/step - accuracy: 0.1000 - loss: 2.3916\n",
      "Epoch 4/10\n",
      "\u001B[1m1/1\u001B[0m \u001B[32m━━━━━━━━━━━━━━━━━━━━\u001B[0m\u001B[37m\u001B[0m \u001B[1m0s\u001B[0m 22ms/step - accuracy: 0.1000 - loss: 2.3829\n",
      "Epoch 5/10\n",
      "\u001B[1m1/1\u001B[0m \u001B[32m━━━━━━━━━━━━━━━━━━━━\u001B[0m\u001B[37m\u001B[0m \u001B[1m0s\u001B[0m 22ms/step - accuracy: 0.1000 - loss: 2.3740\n",
      "Epoch 6/10\n",
      "\u001B[1m1/1\u001B[0m \u001B[32m━━━━━━━━━━━━━━━━━━━━\u001B[0m\u001B[37m\u001B[0m \u001B[1m0s\u001B[0m 22ms/step - accuracy: 0.1000 - loss: 2.3651\n",
      "Epoch 7/10\n",
      "\u001B[1m1/1\u001B[0m \u001B[32m━━━━━━━━━━━━━━━━━━━━\u001B[0m\u001B[37m\u001B[0m \u001B[1m0s\u001B[0m 23ms/step - accuracy: 0.1000 - loss: 2.3566\n",
      "Epoch 8/10\n",
      "\u001B[1m1/1\u001B[0m \u001B[32m━━━━━━━━━━━━━━━━━━━━\u001B[0m\u001B[37m\u001B[0m \u001B[1m0s\u001B[0m 22ms/step - accuracy: 0.1000 - loss: 2.3481\n",
      "Epoch 9/10\n",
      "\u001B[1m1/1\u001B[0m \u001B[32m━━━━━━━━━━━━━━━━━━━━\u001B[0m\u001B[37m\u001B[0m \u001B[1m0s\u001B[0m 23ms/step - accuracy: 0.1000 - loss: 2.3399\n",
      "Epoch 10/10\n",
      "\u001B[1m1/1\u001B[0m \u001B[32m━━━━━━━━━━━━━━━━━━━━\u001B[0m\u001B[37m\u001B[0m \u001B[1m0s\u001B[0m 23ms/step - accuracy: 0.1000 - loss: 2.3322\n"
     ]
    },
    {
     "data": {
      "text/plain": [
       "<keras.src.callbacks.history.History at 0x747bd0253440>"
      ]
     },
     "execution_count": 24,
     "metadata": {},
     "output_type": "execute_result"
    }
   ],
   "execution_count": 24
  },
  {
   "metadata": {
    "ExecuteTime": {
     "end_time": "2025-09-05T08:17:25.621940Z",
     "start_time": "2025-09-05T08:17:25.494439Z"
    }
   },
   "cell_type": "code",
   "source": [
    "# 5. Test prediction\n",
    "test_digit = np.array([[1,1,1,1,1,1,0,0,0]])  # should be \"0\"\n",
    "prediction = model.predict(test_digit)\n",
    "print(\"Predicted digit:\", np.argmax(prediction))"
   ],
   "id": "1c0606036a9d4654",
   "outputs": [
    {
     "name": "stdout",
     "output_type": "stream",
     "text": [
      "\u001B[1m1/1\u001B[0m \u001B[32m━━━━━━━━━━━━━━━━━━━━\u001B[0m\u001B[37m\u001B[0m \u001B[1m0s\u001B[0m 110ms/step\n",
      "Predicted digit: 1\n"
     ]
    }
   ],
   "execution_count": 25
  }
 ],
 "metadata": {
  "kernelspec": {
   "display_name": "Python 3",
   "language": "python",
   "name": "python3"
  },
  "language_info": {
   "codemirror_mode": {
    "name": "ipython",
    "version": 2
   },
   "file_extension": ".py",
   "mimetype": "text/x-python",
   "name": "python",
   "nbconvert_exporter": "python",
   "pygments_lexer": "ipython2",
   "version": "2.7.6"
  }
 },
 "nbformat": 4,
 "nbformat_minor": 5
}
